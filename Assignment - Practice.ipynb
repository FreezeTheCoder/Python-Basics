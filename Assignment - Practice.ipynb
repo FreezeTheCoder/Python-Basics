{
 "cells": [
  {
   "cell_type": "markdown",
   "id": "bef38916",
   "metadata": {},
   "source": [
    "# Floyd's Triangle"
   ]
  },
  {
   "cell_type": "code",
   "execution_count": 5,
   "id": "c6b1aa98",
   "metadata": {},
   "outputs": [
    {
     "name": "stdout",
     "output_type": "stream",
     "text": [
      "Enter a number:5\n",
      "* \n",
      "* * \n",
      "* * * \n",
      "* * * * \n",
      "* * * * * \n"
     ]
    }
   ],
   "source": [
    "def fltriangle(rows):\n",
    "    init=1\n",
    "    for i in range(1, rows+1):\n",
    "        for j in range(1, i+1):\n",
    "            print(\"*\",end=\" \")\n",
    "            init=init+1\n",
    "        print()\n",
    "\n",
    "val=int(input(\"Enter a number:\"))\n",
    "fltriangle(val)\n",
    "\n",
    "        "
   ]
  },
  {
   "cell_type": "markdown",
   "id": "06a3dd1e",
   "metadata": {},
   "source": [
    "# Floyd's Triangle (with Numbers)"
   ]
  },
  {
   "cell_type": "code",
   "execution_count": 6,
   "id": "09f6ed79",
   "metadata": {},
   "outputs": [
    {
     "name": "stdout",
     "output_type": "stream",
     "text": [
      "Enter a number:5\n",
      "1 \n",
      "2 3 \n",
      "4 5 6 \n",
      "7 8 9 10 \n",
      "11 12 13 14 15 \n"
     ]
    }
   ],
   "source": [
    "def fltriangle(rows):\n",
    "    init=1\n",
    "    for i in range(1, rows+1):\n",
    "        for j in range(1, i+1):\n",
    "            print(init, end=\" \")\n",
    "            init=init+1\n",
    "        print()\n",
    "\n",
    "val=int(input(\"Enter a number:\"))\n",
    "fltriangle(val)"
   ]
  },
  {
   "cell_type": "markdown",
   "id": "b8bffa90",
   "metadata": {},
   "source": [
    "# Fibonacci Series"
   ]
  },
  {
   "cell_type": "code",
   "execution_count": 9,
   "id": "9011f89c",
   "metadata": {},
   "outputs": [
    {
     "name": "stdout",
     "output_type": "stream",
     "text": [
      "Enter the number of terms: 10\n",
      "Fibonacci Series:\n",
      "[0, 1, 1, 2, 3, 5, 8, 13, 21, 34]\n"
     ]
    }
   ],
   "source": [
    "def fibonacci(n):\n",
    "    init_series=[0, 1]\n",
    "    if(n==2):\n",
    "        print(init_series)\n",
    "    for i in range(2, n):\n",
    "        next_item = init_series[-1] + init_series[-2]\n",
    "        init_series.append(next_item)\n",
    "    return init_series\n",
    "\n",
    "terms=int(input(\"Enter the number of terms: \"))\n",
    "result=fibonacci(terms)\n",
    "\n",
    "print(\"Fibonacci Series:\")\n",
    "print(result)"
   ]
  },
  {
   "cell_type": "markdown",
   "id": "a2488970",
   "metadata": {},
   "source": [
    "# Prime Numbers in range m:n"
   ]
  },
  {
   "cell_type": "code",
   "execution_count": 17,
   "id": "f24a6cf4",
   "metadata": {},
   "outputs": [
    {
     "name": "stdout",
     "output_type": "stream",
     "text": [
      "Enter the starting range: 5\n",
      "Enter the ending range: 10\n",
      "Prime Numbers between 5 and 10 are:\n",
      "5 7 "
     ]
    }
   ],
   "source": [
    "def checkprime(num):\n",
    "    if(num<2):\n",
    "        return False\n",
    "    for i in range (2, num):\n",
    "        if(num%i == 0):\n",
    "            return False\n",
    "    return True\n",
    "\n",
    "def printprimes(m,n):\n",
    "    print(f\"Prime Numbers between {m} and {n} are:\")\n",
    "    for i in range(m,n+1):\n",
    "        if(checkprime(i)):\n",
    "            print(i, end=\" \")\n",
    "            \n",
    "start=int(input(\"Enter the starting range: \"))\n",
    "end=int(input(\"Enter the ending range: \"))\n",
    "\n",
    "printprimes(start,end)"
   ]
  },
  {
   "cell_type": "markdown",
   "id": "f3116b74",
   "metadata": {},
   "source": [
    "# Print the Sum of Series 1 + 1/1! + 2/2! + .... + n/n!"
   ]
  },
  {
   "cell_type": "code",
   "execution_count": 24,
   "id": "a3d8e10a",
   "metadata": {},
   "outputs": [
    {
     "name": "stdout",
     "output_type": "stream",
     "text": [
      "Enter the value of N: 5\n",
      "1.0416666666666667\n"
     ]
    }
   ],
   "source": [
    "import math\n",
    "\n",
    "def series(n):\n",
    "    series_sum=0\n",
    "    for i in range(n+1):\n",
    "        series_sum = 1 + (i / math.factorial(i))\n",
    "    return series_sum\n",
    "\n",
    "number=int(input(\"Enter the value of N: \"))\n",
    "result=series(number)\n",
    "print(result)"
   ]
  }
 ],
 "metadata": {
  "kernelspec": {
   "display_name": "Python 3 (ipykernel)",
   "language": "python",
   "name": "python3"
  },
  "language_info": {
   "codemirror_mode": {
    "name": "ipython",
    "version": 3
   },
   "file_extension": ".py",
   "mimetype": "text/x-python",
   "name": "python",
   "nbconvert_exporter": "python",
   "pygments_lexer": "ipython3",
   "version": "3.11.5"
  }
 },
 "nbformat": 4,
 "nbformat_minor": 5
}
